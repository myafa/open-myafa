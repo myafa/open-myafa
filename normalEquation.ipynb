{
 "cells": [
  {
   "cell_type": "code",
   "execution_count": 4,
   "metadata": {},
   "outputs": [],
   "source": [
    "import numpy as np"
   ]
  },
  {
   "cell_type": "code",
   "execution_count": 2,
   "metadata": {},
   "outputs": [
    {
     "ename": "SyntaxError",
     "evalue": "invalid syntax (<ipython-input-2-68ba6b842e2a>, line 13)",
     "output_type": "error",
     "traceback": [
      "\u001b[1;36m  File \u001b[1;32m\"<ipython-input-2-68ba6b842e2a>\"\u001b[1;36m, line \u001b[1;32m13\u001b[0m\n\u001b[1;33m    self._new_X.\u001b[0m\n\u001b[1;37m                ^\u001b[0m\n\u001b[1;31mSyntaxError\u001b[0m\u001b[1;31m:\u001b[0m invalid syntax\n"
     ]
    }
   ],
   "source": [
    "class LinearRegression(object):\n",
    "    def __init__(self, fit_intercept=True, copy_X=True):\n",
    "        self.fit_intercept = fit_intercept\n",
    "        self.copy_X = copy_X\n",
    "\n",
    "        self._coef = None\n",
    "        self._intercept = None\n",
    "        self._new_X = None\n",
    "\n",
    "    def fit(self, X, y):\n",
    "        self._new_X = X\n",
    "        if self.fit_intercept ==True:\n",
    "            self._new_X = np.vstack(self._new_X, np.ones(1,2))\n",
    "            X = self._new_X\n",
    "        self._new_X = np.dot(np.linalg.inv(np.dot(X.T,X).T),X.T)\n",
    "        self._coef = np.dot(self._new_X, y)\n",
    "        \"\"\"\n",
    "        Linear regression 모델을 적합한다.\n",
    "        Matrix X와 Vector Y가 입력 값으로 들어오면 Normal equation을 활용하여, weight값을\n",
    "        찾는다. 이 때, instance가 생성될 때, fit_intercept 설정에 따라 fit 실행이 달라진다.\n",
    "        fit을 할 때는 입력되는 X의 값은 반드시 새로운 변수(self._new_X)에 저장\n",
    "        된 후 실행되어야 한다.\n",
    "        fit_intercept가 True일 경우:\n",
    "            - Matrix X의 0번째 Column에 값이 1인 column vector를추가한다.\n",
    "\n",
    "        적합이 종료된 후 각 변수의 계수(coefficient 또는 weight값을 의미)는 self._coef와\n",
    "        self._intercept_coef에 저장된다. 이때 self._coef는 numpy array을 각 변수항의\n",
    "        weight값을 저장한 1차원 vector이며, self._intercept_coef는 상수항의 weight를\n",
    "        저장한 scalar(float) 이다.\n",
    "        Parameters\n",
    "        ----------\n",
    "        X : numpy array, 2차원 matrix 형태로 [n_samples,n_features] 구조를 가진다\n",
    "        y : numpy array, 1차원 vector 형태로 [n_targets]의 구조를 가진다.\n",
    "\n",
    "        Returns\n",
    "        -------\n",
    "        self : 현재의 인스턴스가 리턴된다\n",
    "        \"\"\"\n",
    "        pass\n",
    "\n",
    "    def predict(self, X):\n",
    "        \"\"\"\n",
    "        적합된 Linear regression 모델을 사용하여 입력된 Matrix X의 예측값을 반환한다.\n",
    "        이 때, 입력된 Matrix X는 별도의 전처리가 없는 상태로 입력되는 걸로 가정한다.\n",
    "        fit_intercept가 True일 경우:\n",
    "            - Matrix X의 0번째 Column에 값이 1인 column vector를추가한다.\n",
    "        normalize가 True일 경우:\n",
    "            - Standard normalization으로 Matrix X의 column 0(상수)를 제외한 모든 값을\n",
    "              정규화을 실행함\n",
    "            - 정규화를 할때는 self._mu_X와 self._std_X 에 있는 값을 사용한다.\n",
    "        Parameters\n",
    "        ----------\n",
    "        X : numpy array, 2차원 matrix 형태로 [n_samples,n_features] 구조를 가진다\n",
    "\n",
    "        Returns\n",
    "        -------\n",
    "        y : numpy array, 예측된 값을 1차원 vector 형태로 [n_predicted_targets]의\n",
    "            구조를 가진다.\n",
    "        \"\"\"\n",
    "        return None\n",
    "\n",
    "    @property\n",
    "    def coef(self):\n",
    "        return self._coef\n",
    "\n",
    "    @property\n",
    "    def intercept(self):\n",
    "        return self._intercept\n"
   ]
  },
  {
   "cell_type": "code",
   "execution_count": null,
   "metadata": {},
   "outputs": [],
   "source": []
  }
 ],
 "metadata": {
  "kernelspec": {
   "display_name": "Python 3",
   "language": "python",
   "name": "python3"
  },
  "language_info": {
   "codemirror_mode": {
    "name": "ipython",
    "version": 3
   },
   "file_extension": ".py",
   "mimetype": "text/x-python",
   "name": "python",
   "nbconvert_exporter": "python",
   "pygments_lexer": "ipython3",
   "version": "3.6.5"
  }
 },
 "nbformat": 4,
 "nbformat_minor": 2
}
